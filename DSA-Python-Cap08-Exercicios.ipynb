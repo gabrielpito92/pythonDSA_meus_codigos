{
 "cells": [
  {
   "cell_type": "markdown",
   "metadata": {},
   "source": [
    "# <font color='blue'>Data Science Academy</font>\n",
    "\n",
    "## <font color='blue'>Fundamentos de Linguagem Python Para Análise de Dados e Data Science</font>\n",
    "\n",
    "## <font color='blue'>Introdução à Programação Orientada a Objetos</font>"
   ]
  },
  {
   "cell_type": "code",
   "execution_count": 1,
   "metadata": {},
   "outputs": [
    {
     "name": "stdout",
     "output_type": "stream",
     "text": [
      "Versão da Linguagem Python Usada Neste Jupyter Notebook: 3.9.13\n"
     ]
    }
   ],
   "source": [
    "# Versão da Linguagem Python\n",
    "from platform import python_version\n",
    "print('Versão da Linguagem Python Usada Neste Jupyter Notebook:', python_version())"
   ]
  },
  {
   "cell_type": "markdown",
   "metadata": {},
   "source": [
    "## Exercícios"
   ]
  },
  {
   "cell_type": "code",
   "execution_count": 5,
   "metadata": {},
   "outputs": [
    {
     "name": "stdout",
     "output_type": "stream",
     "text": [
      "2\n",
      "3\n",
      "2\n",
      "4\n",
      "2 4\n"
     ]
    }
   ],
   "source": [
    "# Exercício 1 - Crie um objeto a partir da classe abaixo, chamado roc1, \n",
    "# passando 2 parâmetros e depois faça uma chamada aos atributos e métodos\n",
    "from math import sqrt\n",
    "\n",
    "class Rocket():\n",
    "     \n",
    "    def __init__(self, x=0, y=0):\n",
    "        self.x = x\n",
    "        self.y = y\n",
    "        \n",
    "    def move_rocket(self, x_increment=0, y_increment=1):\n",
    "        self.x += x_increment\n",
    "        self.y += y_increment\n",
    "        \n",
    "    def print_rocket(self):\n",
    "        print(self.x, self.y)\n",
    "        \n",
    "roc1 = Rocket(2,3)\n",
    "print(roc1.x)\n",
    "print(roc1.y)\n",
    "\n",
    "roc1.move_rocket()\n",
    "print(roc1.x)\n",
    "print(roc1.y)\n",
    "\n",
    "roc1.print_rocket()"
   ]
  },
  {
   "cell_type": "code",
   "execution_count": 9,
   "metadata": {},
   "outputs": [
    {
     "name": "stdout",
     "output_type": "stream",
     "text": [
      "Nome: gabriel Cidade: Ourinhos Telefone: 14-996437239 E-mail: gabrielpito92@gmail.com\n",
      "Parabéns, Feliz aniversário gabriel\n"
     ]
    }
   ],
   "source": [
    "# Exercício 2 - Crie uma classe chamada Pessoa() com os atributos: nome, cidade, telefone e e-mail. Use pelo menos 2\n",
    "# métodos especiais na sua classe. Crie um objeto da sua classe e faça uma chamada a pelo menos um dos seus métodos\n",
    "# especiais.\n",
    "class Pessoa():\n",
    "    \n",
    "    def __init__(self, nome, cidade, telefone, email):\n",
    "        self.nome = nome\n",
    "        self.cidade = cidade\n",
    "        self.telefone = telefone\n",
    "        self.email = email\n",
    "        \n",
    "    def aniversario(self):\n",
    "        print('Parabéns, Feliz aniversário', self.nome)\n",
    "    \n",
    "    def setNome(self, nome):\n",
    "        self.nome = nome\n",
    "    \n",
    "    def getPessoa(self):\n",
    "        print('Nome: ' + self.nome, 'Cidade: ' + self.cidade, 'Telefone: ' + self.telefone, 'E-mail: ' + self.email)\n",
    "        \n",
    "pessoa1 = Pessoa('gabriel','Ourinhos','14-996437239','gabrielpito92@gmail.com')\n",
    "\n",
    "Pessoa.getPessoa(pessoa1)\n",
    "\n",
    "pessoa1.nome\n",
    "\n",
    "Pessoa.aniversario(pessoa1)"
   ]
  },
  {
   "cell_type": "code",
   "execution_count": 12,
   "metadata": {},
   "outputs": [
    {
     "name": "stdout",
     "output_type": "stream",
     "text": [
      "Tamanho:  mini Interface:  Android\n",
      "Capacidade:  4GB\n"
     ]
    }
   ],
   "source": [
    "# Exercício 3 - Crie a classe Smartphone com 2 atributos, tamanho e interface e crie a classe MP3Player com os \n",
    "# atributos capacidade. A classe MP3player deve herdar os atributos da classe Smartphone.\n",
    "class Smartphone():\n",
    "\n",
    "    def __init__(self, tamanho, interface):\n",
    "        self.tamanho = tamanho\n",
    "        self.interface = interface\n",
    "    \n",
    "    def getDados(self):\n",
    "        print('Tamanho: ', self.tamanho, 'Interface: ', self.interface)\n",
    "    \n",
    "class MP3Player(Smartphone):\n",
    "    \n",
    "    def __init__(self, tamanho, interface, capacidade):\n",
    "        super().__init__(tamanho, interface)\n",
    "        self.capacidade = capacidade\n",
    "    \n",
    "    def getDados(self):\n",
    "        super().getDados()\n",
    "        print('Capacidade: ', self.capacidade)\n",
    "\n",
    "smart1 = Smartphone('pequeno', 'IOS')\n",
    "mp31 = MP3Player('mini','Android','4GB')\n",
    "\n",
    "mp31.getDados()"
   ]
  },
  {
   "cell_type": "markdown",
   "metadata": {},
   "source": [
    "### FIM"
   ]
  },
  {
   "cell_type": "markdown",
   "metadata": {},
   "source": [
    "### Obrigado\n",
    "\n",
    "### Visite o Blog da Data Science Academy - <a href=\"http://blog.dsacademy.com.br\">Blog DSA</a>"
   ]
  }
 ],
 "metadata": {
  "kernelspec": {
   "display_name": "Python 3 (ipykernel)",
   "language": "python",
   "name": "python3"
  },
  "language_info": {
   "codemirror_mode": {
    "name": "ipython",
    "version": 3
   },
   "file_extension": ".py",
   "mimetype": "text/x-python",
   "name": "python",
   "nbconvert_exporter": "python",
   "pygments_lexer": "ipython3",
   "version": "3.9.13"
  }
 },
 "nbformat": 4,
 "nbformat_minor": 1
}
